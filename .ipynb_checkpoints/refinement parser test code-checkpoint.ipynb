{
 "cells": [
  {
   "cell_type": "code",
   "execution_count": 2,
   "metadata": {
    "collapsed": false
   },
   "outputs": [
    {
     "name": "stdout",
     "output_type": "stream",
     "text": [
      "\u001b[34mBeamTeam Wiki\u001b[m\u001b[m/            Untitled.ipynb            \u001b[34mbeamteam-data-processing\u001b[m\u001b[m/\r\n"
     ]
    }
   ],
   "source": [
    "ls"
   ]
  },
  {
   "cell_type": "code",
   "execution_count": 3,
   "metadata": {
    "collapsed": false
   },
   "outputs": [
    {
     "ename": "SyntaxError",
     "evalue": "invalid syntax (<ipython-input-3-6cfc4536b812>, line 1)",
     "output_type": "error",
     "traceback": [
      "\u001b[0;36m  File \u001b[0;32m\"<ipython-input-3-6cfc4536b812>\"\u001b[0;36m, line \u001b[0;32m1\u001b[0m\n\u001b[0;31m    cd beamteam-data-processing/\u001b[0m\n\u001b[0m              ^\u001b[0m\n\u001b[0;31mSyntaxError\u001b[0m\u001b[0;31m:\u001b[0m invalid syntax\n"
     ]
    }
   ],
   "source": [
    "cd beamteam-data-processing/\n",
    "ls"
   ]
  },
  {
   "cell_type": "code",
   "execution_count": 4,
   "metadata": {
    "collapsed": false
   },
   "outputs": [
    {
     "name": "stdout",
     "output_type": "stream",
     "text": [
      "/Users/njohnson/Google Drive/Science/Graduate/git/beamteam-data-processing\n"
     ]
    }
   ],
   "source": [
    "cd beamteam-data-processing/"
   ]
  },
  {
   "cell_type": "code",
   "execution_count": 5,
   "metadata": {
    "collapsed": false
   },
   "outputs": [
    {
     "name": "stdout",
     "output_type": "stream",
     "text": [
      "/Users/njohnson/Google Drive/Science/Graduate/git/beamteam-data-processing/beamteam-data-processing\n"
     ]
    }
   ],
   "source": [
    "cd beamteam-data-processing/"
   ]
  },
  {
   "cell_type": "code",
   "execution_count": 6,
   "metadata": {
    "collapsed": false
   },
   "outputs": [
    {
     "name": "stdout",
     "output_type": "stream",
     "text": [
      "W1X2-6.lst          workbench.py        xrd_data_parser.py\r\n"
     ]
    }
   ],
   "source": [
    "ls"
   ]
  },
  {
   "cell_type": "code",
   "execution_count": 60,
   "metadata": {
    "collapsed": false
   },
   "outputs": [
    {
     "data": {
      "text/plain": [
       "<enumerate at 0x10acee870>"
      ]
     },
     "execution_count": 60,
     "metadata": {},
     "output_type": "execute_result"
    }
   ],
   "source": [
    "enumerate(open('W1X2-6.lst',\"r\").read())"
   ]
  },
  {
   "cell_type": "code",
   "execution_count": 67,
   "metadata": {
    "collapsed": false
   },
   "outputs": [
    {
     "name": "stdout",
     "output_type": "stream",
     "text": [
      " Phases:\n",
      "\n",
      " Phase name: alpha Ti\n",
      "\n",
      " Phase name: alpha' Ti\n",
      "\n",
      " Phase: alpha Ti in histogram: PWDR W1X2-6.xrdml Scan 1\n",
      "\n",
      " Phase fraction  :     6.8169 Refine? True\n",
      "\n",
      " Phase: alpha' Ti in histogram: PWDR W1X2-6.xrdml Scan 1\n",
      "\n",
      " Phase fraction  :     1.6126 Refine? True\n",
      "\n",
      " Phases:\n",
      "\n",
      " Phase: alpha Ti in histogram: PWDR W1X2-6.xrdml Scan 1\n",
      "\n",
      " Phase fraction  :    6.81692, sig    0.85195 Weight fraction  :  0.70504, sig    0.08811\n",
      "\n",
      " Phase: alpha' Ti in histogram: PWDR W1X2-6.xrdml Scan 1\n",
      "\n",
      " Phase fraction  :    1.61264, sig    0.02052 Weight fraction  :  0.29496, sig    0.00375\n",
      "\n"
     ]
    }
   ],
   "source": [
    "for line in open(\"W1X2-6.lst\",\"r\").readlines():\n",
    "    if 'Phase' in line:\n",
    "        print(line)"
   ]
  },
  {
   "cell_type": "code",
   "execution_count": null,
   "metadata": {
    "collapsed": true
   },
   "outputs": [],
   "source": []
  }
 ],
 "metadata": {
  "kernelspec": {
   "display_name": "Python 2",
   "language": "python",
   "name": "python2"
  },
  "language_info": {
   "codemirror_mode": {
    "name": "ipython",
    "version": 2
   },
   "file_extension": ".py",
   "mimetype": "text/x-python",
   "name": "python",
   "nbconvert_exporter": "python",
   "pygments_lexer": "ipython2",
   "version": "2.7.13"
  }
 },
 "nbformat": 4,
 "nbformat_minor": 2
}
